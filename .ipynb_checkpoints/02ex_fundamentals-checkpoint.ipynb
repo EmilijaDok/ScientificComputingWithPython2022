{
 "cells": [
  {
   "cell_type": "markdown",
   "metadata": {},
   "source": [
    "You can solve these exercises in the room or at home. For this week, and the next 3 weeks, exercises have to be solved by creating a dedicated `.py` file (or files) called `02ex_fundamentals.py`.\n",
    "\n",
    "In case you need multiple files, name them `02ex_fundamentals_es01.py`, `02ex_fundamentals_es02.py` and so on. In this case, it's convenient to create a dedicated directory, to be named `02ex_fundamentals`. \n",
    "\n",
    "The exercises need to run without errors with `python3`."
   ]
  },
  {
   "cell_type": "markdown",
   "metadata": {},
   "source": [
    "1\\. **Global variables**\n",
    "\n",
    "Convert the function $f$ into a function that doesn't use global variables and that does not modify the original list"
   ]
  },
  {
   "cell_type": "code",
   "execution_count": 44,
   "metadata": {},
   "outputs": [
    {
     "name": "stdout",
     "output_type": "stream",
     "text": [
      "[1, 2, 3, 0, 1, 2, 3, 4]\n",
      "[1, 2, 3, 0, 1, 2, 3, 4]\n"
     ]
    }
   ],
   "source": [
    "x = 5\n",
    "\n",
    "def f(alist):\n",
    "    for i in range(x):\n",
    "        alist.append(i)\n",
    "    return alist\n",
    "\n",
    "alist = [1, 2, 3]\n",
    "ans = f(alist)\n",
    "print(ans)\n",
    "print(alist) # alist has been changed"
   ]
  },
  {
   "cell_type": "code",
   "execution_count": 45,
   "metadata": {},
   "outputs": [
    {
     "name": "stdout",
     "output_type": "stream",
     "text": [
      "[0, 1, 2, 3, 4]\n",
      "[1, 2, 3]\n"
     ]
    }
   ],
   "source": [
    "#Task 1\n",
    "\n",
    "x = 5\n",
    "def f(alist):\n",
    "    alist=[i for i in range(x)]\n",
    "    return alist\n",
    "\n",
    "alist = [1, 2, 3]\n",
    "ans = f(alist)\n",
    "#List created in the function\n",
    "print(ans)\n",
    "#Original non-changed list\n",
    "print(alist) "
   ]
  },
  {
   "cell_type": "markdown",
   "metadata": {},
   "source": [
    "2\\. **List comprehension**\n",
    "\n",
    "Write the following expression using a list comprehension:\n",
    "\n",
    "`ans = list(map(lambda x: x * x, filter(lambda x: x % 2 == 1, range(10)))`"
   ]
  },
  {
   "cell_type": "code",
   "execution_count": 3,
   "metadata": {},
   "outputs": [
    {
     "name": "stdout",
     "output_type": "stream",
     "text": [
      "[1, 9, 25, 49, 81]\n"
     ]
    }
   ],
   "source": [
    "#Task 2\n",
    "#Rewritten expression above\n",
    "odd_squares=[x*x for x in range(10) if x%2==1]\n",
    "print(odd_squares)"
   ]
  },
  {
   "cell_type": "markdown",
   "metadata": {},
   "source": [
    "3\\. **Filter list**\n",
    "\n",
    "Using the `filter()` hof, define a function that takes a list of words and an integer `n` as arguments, and returns a list of words that are shorter than `n`."
   ]
  },
  {
   "cell_type": "code",
   "execution_count": 27,
   "metadata": {},
   "outputs": [
    {
     "name": "stdout",
     "output_type": "stream",
     "text": [
      "['haha', 'tri', 'radi']\n"
     ]
    }
   ],
   "source": [
    "#Task 3\n",
    "\n",
    "def filter_length_of_words(list1,n):\n",
    "    return list(filter(lambda i : len(i)<n, list1 ))\n",
    "\n",
    "list1=['jajajaj','haha','tri','emilija','radi','zadatke']\n",
    "print(filter_length_of_words(list1,5))"
   ]
  },
  {
   "cell_type": "markdown",
   "metadata": {},
   "source": [
    "4\\. **Map dictionary**\n",
    "\n",
    "\n",
    "Consider the following dictionary:\n",
    "\n",
    "`lang = {\"Python\" : 3, \"Java\" : '', \"Cplusplus\" : 'test', \"Php\" : 0.7}`\n",
    "\n",
    "Write a function that takes the above dictionary and uses the `map()` higher order function to return a list that contains the length of the keys of the dictionary."
   ]
  },
  {
   "cell_type": "code",
   "execution_count": 46,
   "metadata": {},
   "outputs": [
    {
     "name": "stdout",
     "output_type": "stream",
     "text": [
      "[6, 4, 9, 3]\n"
     ]
    }
   ],
   "source": [
    "#Task 4\n",
    "lang = {\"Python\" : 3, \"Java\" : '', \"Cplusplus\" : 'test', \"Php\" : 0.7}\n",
    "\n",
    "\n",
    "def len_of_keys(x):\n",
    "    list1=list(x.keys())\n",
    "    list2=[]\n",
    "    \n",
    "    for i in map(lambda y: len(y),list1):\n",
    "        list2.append(i)\n",
    "    return list2    \n",
    "    \n",
    "\n",
    "print(len_of_keys(lang))"
   ]
  },
  {
   "cell_type": "markdown",
   "metadata": {},
   "source": [
    "5\\. **Lambda functions**\n",
    "\n",
    "Write a Python program that sorts the following list of tuples using a lambda function, according to the alphabetical order of the first element of the tuple:\n",
    "\n",
    "`language_scores = [('Python', 97), ('Cplusplus', 81), ('Php', 45), ('Java', 32)]`\n",
    "\n",
    "*Hint*: use the method `sort()` and its argument `key` of the `list` data structure."
   ]
  },
  {
   "cell_type": "code",
   "execution_count": 13,
   "metadata": {},
   "outputs": [
    {
     "name": "stdout",
     "output_type": "stream",
     "text": [
      "[('Cplusplus', 81), ('Java', 32), ('Php', 45), ('Python', 97)]\n"
     ]
    }
   ],
   "source": [
    "#Task 5\n",
    "#Alphabetic sort of list of tuple based on the keys \n",
    "language_scores = [('Python', 97), ('Cplusplus', 81), ('Php', 45), ('Java', 32)]\n",
    "\n",
    "language_scores.sort(key= lambda x : x[0])\n",
    "print(language_scores)"
   ]
  },
  {
   "cell_type": "markdown",
   "metadata": {},
   "source": [
    "6\\. **Nested functions**\n",
    "\n",
    "Write two functions: one that returns the square of a number, and one that returns its cube.\n",
    "\n",
    "Then, write a third function that returns the number raised to the 6th power, using only the two previous functions."
   ]
  },
  {
   "cell_type": "code",
   "execution_count": 8,
   "metadata": {},
   "outputs": [
    {
     "name": "stdout",
     "output_type": "stream",
     "text": [
      "64\n"
     ]
    }
   ],
   "source": [
    "#Task 6\n",
    "def square(num):\n",
    "    return num*num\n",
    "\n",
    "def cube(num):\n",
    "    return num*num*num\n",
    "\n",
    "def powSix(num):\n",
    "    return square(num)*cube(num)*num\n",
    "\n",
    "print(powSix(2))"
   ]
  },
  {
   "cell_type": "markdown",
   "metadata": {},
   "source": [
    "7\\. **Decorators**\n",
    "\n",
    "Write a decorator named `hello` that makes every wrapped function print “Hello World!” each time the function is called.\n",
    "\n",
    "The wrapped function should look like:\n",
    "\n",
    "```python\n",
    "@hello\n",
    "def square(x):\n",
    "    return x*x\n",
    "```"
   ]
  },
  {
   "cell_type": "code",
   "execution_count": 13,
   "metadata": {},
   "outputs": [],
   "source": [
    "#Task 7\n",
    "def hello(func):\n",
    "    def wrapper(x):\n",
    "        \n",
    "        func(x)\n",
    "        print('Hello World!')\n",
    "    return wrapper\n",
    "\n",
    "@hello\n",
    "def square(x):\n",
    "    return x*x"
   ]
  },
  {
   "cell_type": "code",
   "execution_count": 12,
   "metadata": {},
   "outputs": [
    {
     "name": "stdout",
     "output_type": "stream",
     "text": [
      "Hello World!\n"
     ]
    }
   ],
   "source": [
    "square(5)"
   ]
  },
  {
   "cell_type": "markdown",
   "metadata": {},
   "source": [
    "8\\. **The Fibonacci sequence (part 2)**\n",
    "\n",
    "Calculate the first 20 numbers of the [Fibonacci sequence](https://en.wikipedia.org/wiki/Fibonacci_number) using a recursive function."
   ]
  },
  {
   "cell_type": "code",
   "execution_count": 14,
   "metadata": {},
   "outputs": [
    {
     "data": {
      "text/plain": [
       "[0,\n",
       " 1,\n",
       " 1,\n",
       " 2,\n",
       " 3,\n",
       " 5,\n",
       " 8,\n",
       " 13,\n",
       " 21,\n",
       " 34,\n",
       " 55,\n",
       " 89,\n",
       " 144,\n",
       " 233,\n",
       " 377,\n",
       " 610,\n",
       " 987,\n",
       " 1597,\n",
       " 2584,\n",
       " 4181]"
      ]
     },
     "execution_count": 14,
     "metadata": {},
     "output_type": "execute_result"
    }
   ],
   "source": [
    "#Task 8\n",
    "\n",
    "def fibonacci_recursive(n):\n",
    "    if n in {0,1}:\n",
    "        return n\n",
    "    else:\n",
    "        return fibonacci_recursive(n-1)+fibonacci_recursive(n-2) \n",
    "\n",
    "[fibonacci_recursive(n) for n in range(20)]\n"
   ]
  },
  {
   "cell_type": "markdown",
   "metadata": {},
   "source": [
    "9\\. **The Fibonacci sequence (part 3)**\n",
    "\n",
    "Run both the Fibonacci recursive function from the previous exercise, and the Fibonacci function from 01ex that use only `for` and `while` loops.\n",
    "\n",
    "Measure the execution code of the two functions with `timeit` ([link to the doc](https://docs.python.org/3/library/timeit.html)), for example:\n",
    "\n",
    "`%timeit loopFibonacci(20)`\n",
    "\n",
    "`%timeit recursiveFibonacci(20)`\n",
    "\n",
    "which one is the most efficient implementation? By how much?"
   ]
  },
  {
   "cell_type": "code",
   "execution_count": 23,
   "metadata": {},
   "outputs": [
    {
     "name": "stdout",
     "output_type": "stream",
     "text": [
      "0.18508449999990262\n"
     ]
    }
   ],
   "source": [
    "#Task 9\n",
    "#Recursive Fibonacci\n",
    "import timeit\n",
    "code1=\"\"\"\n",
    "def fibonacci_recursive(n):\n",
    "    if n in {0,1}:\n",
    "        return n\n",
    "    else:\n",
    "        return fibonacci_recursive(n-1)+fibonacci_recursive(n-2) \n",
    "\"\"\"\n",
    "print(timeit.timeit(stmt=code1, number=1000000))"
   ]
  },
  {
   "cell_type": "code",
   "execution_count": 27,
   "metadata": {},
   "outputs": [
    {
     "name": "stdout",
     "output_type": "stream",
     "text": [
      "0.12656299999980547\n"
     ]
    }
   ],
   "source": [
    "#Task 9\n",
    "#Loop Fibonacci\n",
    "\n",
    "code2=\"\"\"\n",
    "def loopFibonacci(n):\n",
    "    i = 1\n",
    "    num1, num2=0,1\n",
    "    while(i<=n):\n",
    "        \n",
    "        print(num1)\n",
    "        next=num1+num2\n",
    "        \n",
    "        num1=num2\n",
    "        num2=next\n",
    "        i+=1\n",
    "\"\"\"\n",
    "\n",
    "print(timeit.timeit(stmt=code2, number=1000000))"
   ]
  },
  {
   "cell_type": "code",
   "execution_count": null,
   "metadata": {},
   "outputs": [],
   "source": [
    "#Comment on the Task 9\n",
    "\n",
    "#The more efficient is looped Fibonacci in general case for ~ 0.06"
   ]
  },
  {
   "cell_type": "markdown",
   "metadata": {},
   "source": [
    "10\\. **Class definition**\n",
    "\n",
    "Define a class `polygon`. The constructor has to take a tuple as input that contains the length of each side. The (unordered) input list does not have to have a fixed length, but should contain at least 3 items.\n",
    "\n",
    "- Create appropriate methods to get and set the length of each side\n",
    "\n",
    "- Create a method `perimeter()` that returns the perimeter of the polygon\n",
    "\n",
    "- Create a method `getOrderedSides(increasing = True)` that returns a tuple containing the length of the sides arranged in increasing or decreasing order, depending on the argument of the method\n",
    "\n",
    "Test the class by creating an instance and calling the `perimeter()` and `getOrderedSides(increasing = True)` methods."
   ]
  },
  {
   "cell_type": "code",
   "execution_count": 47,
   "metadata": {},
   "outputs": [],
   "source": [
    "#Task 10\n",
    "\n",
    "#Definition of the class Polygon \n",
    "\n",
    "import math\n",
    "\n",
    "class Polygon:\n",
    "    #Definition of the polygon class atributes, all instances of the class polygon has atribute sides\n",
    "    \n",
    "    sides=()\n",
    "    \n",
    "    #Definition of the constructor which is called everytime new instance of the Polygon class is created\n",
    "    \n",
    "    def __init__(self, components):\n",
    "        if len(components)>=3:\n",
    "            self.sides=components \n",
    "        else:\n",
    "            print('It is not polygon, please try to increase number of sides!')\n",
    "    \n",
    "    # Definition of the destructor, but it is often omitted\n",
    "    def __del__(self):\n",
    "        print(\"Goodbye\")\n",
    "        \n",
    "    #Getter methode    \n",
    "    def get(self):\n",
    "        return self.sides\n",
    "    \n",
    "    \n",
    "    # This method allows to get individial elements of the 'sides' attribute \n",
    "    def getX(self, n): # n is the component index\n",
    "        return self.sides[n]\n",
    "    \n",
    "    # This method allows to set individial elements of the 'sides' attribute \n",
    "    def setX(self, n, xi): # n is the component index, and xi is the value\n",
    "        if n < len(self.sides):\n",
    "            tmp=list(self.sides)\n",
    "            tmp[n]=xi\n",
    "            self.sides=tuple(tmp)\n",
    "            \n",
    "    #Create a method perimeter\n",
    "    \n",
    "    def perimeter(self):\n",
    "        sum=0\n",
    "        for side in self.sides:\n",
    "            sum=sum+side\n",
    "        return sum    \n",
    "\n",
    "    #Method getOrderedSides\n",
    "    \n",
    "    def getOrderedSides(self, increasing=True):\n",
    "        tmp=list(self.sides)\n",
    "        tmp.sort(reverse=not(increasing))\n",
    "        return tmp\n",
    "    \n",
    "    "
   ]
  },
  {
   "cell_type": "code",
   "execution_count": 48,
   "metadata": {},
   "outputs": [
    {
     "name": "stdout",
     "output_type": "stream",
     "text": [
      "It is not polygon, please try to increase number of sides!\n",
      "Goodbye\n",
      "Goodbye\n",
      "Perimeter of the polygon:  18\n",
      "Sorted sides of the polygon: [3, 4, 5, 6]\n"
     ]
    }
   ],
   "source": [
    "#Creating instances of the class Polygon\n",
    "\n",
    "#creating an instances that is not a Polygon\n",
    "x1=Polygon((2,4))\n",
    "\n",
    "#creating Polygon \n",
    "\n",
    "x2=Polygon((3,5,6,4))\n",
    "print(\"Perimeter of the polygon: \", x2.perimeter())\n",
    "print(\"Sorted sides of the polygon:\", x2.getOrderedSides(increasing=True))\n",
    "\n",
    "\n"
   ]
  },
  {
   "cell_type": "markdown",
   "metadata": {},
   "source": [
    "11\\. **Class inheritance**\n",
    "\n",
    "Define a class `rectangle` that inherits from `polygon`. Modify the constructor, if necessary, to make sure that the input data is consistent with the geometrical properties of a rectangle.\n",
    "\n",
    "- Create a method `area()` that returns the area of the rectangle.\n",
    "\n",
    "Test the `rectangle` class by creating an instance and passing an appropriate input to the constructor."
   ]
  },
  {
   "cell_type": "code",
   "execution_count": 49,
   "metadata": {},
   "outputs": [],
   "source": [
    "#Task 11\n",
    "\n",
    "class Rectangle(Polygon): #class Rectangle inherits class Polygon\n",
    "        \n",
    "    def __init__(self, components):\n",
    "        if len(components)==4 and components[0]==components[1] and components[2]==components[3]:\n",
    "            self.sides=components \n",
    "        else:\n",
    "            print('Error: Check the number of sides or their length! Sides have to be added in format aabb!')  \n",
    "    \n",
    "    def area(self):\n",
    "        return self.getX(0)*self.getX(2)\n",
    "    "
   ]
  },
  {
   "cell_type": "code",
   "execution_count": 50,
   "metadata": {},
   "outputs": [
    {
     "name": "stdout",
     "output_type": "stream",
     "text": [
      "6\n",
      "Error: Check the number of sides or their length! Sides have to be added in format aabb!\n",
      "Error: Check the number of sides or their length! Sides have to be added in format aabb!\n"
     ]
    }
   ],
   "source": [
    "#Creating instances of the class Rectangle\n",
    "\n",
    "a=Rectangle((2,2,3,3))\n",
    "print(a.area())\n",
    "\n",
    "s=Rectangle((2,4,5,3))\n",
    "x=Rectangle((1,2,3))"
   ]
  },
  {
   "cell_type": "code",
   "execution_count": null,
   "metadata": {},
   "outputs": [],
   "source": []
  }
 ],
 "metadata": {
  "kernelspec": {
   "display_name": "Python 3 (ipykernel)",
   "language": "python",
   "name": "python3"
  },
  "language_info": {
   "codemirror_mode": {
    "name": "ipython",
    "version": 3
   },
   "file_extension": ".py",
   "mimetype": "text/x-python",
   "name": "python",
   "nbconvert_exporter": "python",
   "pygments_lexer": "ipython3",
   "version": "3.9.7"
  }
 },
 "nbformat": 4,
 "nbformat_minor": 2
}
