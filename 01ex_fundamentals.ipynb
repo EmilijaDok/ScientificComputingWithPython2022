{
 "cells": [
  {
   "cell_type": "markdown",
   "metadata": {},
   "source": [
    "1\\. **The HelloWorld replacement**\n",
    "\n",
    "a) Write a program that:\n",
    "- prints the numbers from 1 to 100\n",
    "- but for multiples of three print \"`Hello`\" instead of the number and for the multiples of five print \"`World`\"\n",
    "- for numbers which are multiples of both three and five print \"`HelloWorld`\".\n",
    "\n",
    "b) Put the result in a tuple and substitute \"`Hello`\" with \"`Python`\" and \"`World`\" with \"`Works`\".\n"
   ]
  },
  {
   "cell_type": "markdown",
   "metadata": {},
   "source": [
    "You can solve these exercises in the room or at home. For this week, and the next 3 weeks, exercises have to be solved by creating a dedicated `.py` file (or files) called `01ex_introduction.py`.\n",
    "\n",
    "In case you need multiple files, name them `01ex_introduction_es01.py`, `01ex_introduction_es02.py` and so on. \n",
    "\n",
    "The exercises need to run without errors in `python3`."
   ]
  },
  {
   "cell_type": "code",
   "execution_count": 42,
   "metadata": {},
   "outputs": [],
   "source": [
    "#Task 1a\n",
    "l=[]\n",
    "for x in range(1, 101):\n",
    "    if x % 3 == 0 and x % 5 == 0:\n",
    "        l.append('HelloWorld')\n",
    "    elif  x % 5 == 0:\n",
    "        l.append('World')\n",
    "    elif x % 3 == 0:\n",
    "        l.append('Hello')\n",
    "    else:\n",
    "        l.append(x)   \n"
   ]
  },
  {
   "cell_type": "code",
   "execution_count": 56,
   "metadata": {
    "scrolled": false
   },
   "outputs": [
    {
     "name": "stdout",
     "output_type": "stream",
     "text": [
      "[1, 2, 'Python', 4, 'Works', 'Python', 7, 8, 'Python', 'Works', 11, 'Python', 13, 14, 'Python Works', 16, 17, 'Python', 19, 'Works', 'Python', 22, 23, 'Python', 'Works', 26, 'Python', 28, 29, 'Python Works', 31, 32, 'Python', 34, 'Works', 'Python', 37, 38, 'Python', 'Works', 41, 'Python', 43, 44, 'Python Works', 46, 47, 'Python', 49, 'Works', 'Python', 52, 53, 'Python', 'Works', 56, 'Python', 58, 59, 'Python Works', 61, 62, 'Python', 64, 'Works', 'Python', 67, 68, 'Python', 'Works', 71, 'Python', 73, 74, 'Python Works', 76, 77, 'Python', 79, 'Works', 'Python', 82, 83, 'Python', 'Works', 86, 'Python', 88, 89, 'Python Works', 91, 92, 'Python', 94, 'Works', 'Python', 97, 98, 'Python', 'Works']\n"
     ]
    }
   ],
   "source": [
    "#Printing results of the task 1a\n",
    "print(l)"
   ]
  },
  {
   "cell_type": "code",
   "execution_count": 57,
   "metadata": {},
   "outputs": [
    {
     "name": "stdout",
     "output_type": "stream",
     "text": [
      "\n",
      "(1, 2, 'Python', 4, 'Works', 'Python', 7, 8, 'Python', 'Works', 11, 'Python', 13, 14, 'Python Works', 16, 17, 'Python', 19, 'Works', 'Python', 22, 23, 'Python', 'Works', 26, 'Python', 28, 29, 'Python Works', 31, 32, 'Python', 34, 'Works', 'Python', 37, 38, 'Python', 'Works', 41, 'Python', 43, 44, 'Python Works', 46, 47, 'Python', 49, 'Works', 'Python', 52, 53, 'Python', 'Works', 56, 'Python', 58, 59, 'Python Works', 61, 62, 'Python', 64, 'Works', 'Python', 67, 68, 'Python', 'Works', 71, 'Python', 73, 74, 'Python Works', 76, 77, 'Python', 79, 'Works', 'Python', 82, 83, 'Python', 'Works', 86, 'Python', 88, 89, 'Python Works', 91, 92, 'Python', 94, 'Works', 'Python', 97, 98, 'Python', 'Works')\n"
     ]
    }
   ],
   "source": [
    "#Put results in tuple\n",
    "print()\n",
    "before_change=tuple(l)\n",
    "print(before_change)\n"
   ]
  },
  {
   "cell_type": "code",
   "execution_count": 59,
   "metadata": {},
   "outputs": [
    {
     "name": "stdout",
     "output_type": "stream",
     "text": [
      "List before change:\n",
      "[1, 2, 'Python', 4, 'Works', 'Python', 7, 8, 'Python', 'Works', 11, 'Python', 13, 14, 'Python Works', 16, 17, 'Python', 19, 'Works', 'Python', 22, 23, 'Python', 'Works', 26, 'Python', 28, 29, 'Python Works', 31, 32, 'Python', 34, 'Works', 'Python', 37, 38, 'Python', 'Works', 41, 'Python', 43, 44, 'Python Works', 46, 47, 'Python', 49, 'Works', 'Python', 52, 53, 'Python', 'Works', 56, 'Python', 58, 59, 'Python Works', 61, 62, 'Python', 64, 'Works', 'Python', 67, 68, 'Python', 'Works', 71, 'Python', 73, 74, 'Python Works', 76, 77, 'Python', 79, 'Works', 'Python', 82, 83, 'Python', 'Works', 86, 'Python', 88, 89, 'Python Works', 91, 92, 'Python', 94, 'Works', 'Python', 97, 98, 'Python', 'Works']\n",
      "\n",
      "List after change:\n",
      "[1, 2, 'Python', 4, 'Works', 'Python', 7, 8, 'Python', 'Works', 11, 'Python', 13, 14, 'Python Works', 16, 17, 'Python', 19, 'Works', 'Python', 22, 23, 'Python', 'Works', 26, 'Python', 28, 29, 'Python Works', 31, 32, 'Python', 34, 'Works', 'Python', 37, 38, 'Python', 'Works', 41, 'Python', 43, 44, 'Python Works', 46, 47, 'Python', 49, 'Works', 'Python', 52, 53, 'Python', 'Works', 56, 'Python', 58, 59, 'Python Works', 61, 62, 'Python', 64, 'Works', 'Python', 67, 68, 'Python', 'Works', 71, 'Python', 73, 74, 'Python Works', 76, 77, 'Python', 79, 'Works', 'Python', 82, 83, 'Python', 'Works', 86, 'Python', 88, 89, 'Python Works', 91, 92, 'Python', 94, 'Works', 'Python', 97, 98, 'Python', 'Works']\n"
     ]
    }
   ],
   "source": [
    "#Task 1b\n",
    "print(\"List before change:\")\n",
    "print(l)\n",
    "for i in range(len(l)):\n",
    "    if(l[i]=='Hello'):\n",
    "        l[i]='Python'\n",
    "    elif(l[i]=='World'):\n",
    "        l[i]='Works'\n",
    "    elif(l[i]=='HelloWorld'):\n",
    "        l[i]='PythonWorks'\n",
    "print()\n",
    "print('List after change:')\n",
    "print(l)"
   ]
  },
  {
   "cell_type": "code",
   "execution_count": 49,
   "metadata": {},
   "outputs": [
    {
     "name": "stdout",
     "output_type": "stream",
     "text": [
      "Final results after all change saved in tuple:\n",
      "(1, 2, 'Python', 4, 'Works', 'Python', 7, 8, 'Python', 'Works', 11, 'Python', 13, 14, 'Python Works', 16, 17, 'Python', 19, 'Works', 'Python', 22, 23, 'Python', 'Works', 26, 'Python', 28, 29, 'Python Works', 31, 32, 'Python', 34, 'Works', 'Python', 37, 38, 'Python', 'Works', 41, 'Python', 43, 44, 'Python Works', 46, 47, 'Python', 49, 'Works', 'Python', 52, 53, 'Python', 'Works', 56, 'Python', 58, 59, 'Python Works', 61, 62, 'Python', 64, 'Works', 'Python', 67, 68, 'Python', 'Works', 71, 'Python', 73, 74, 'Python Works', 76, 77, 'Python', 79, 'Works', 'Python', 82, 83, 'Python', 'Works', 86, 'Python', 88, 89, 'Python Works', 91, 92, 'Python', 94, 'Works', 'Python', 97, 98, 'Python', 'Works')\n"
     ]
    }
   ],
   "source": [
    "#saved results in the new tuple after replacing strings\n",
    "#Printing results in tuple for the task 1b\n",
    "print('Final results after all change saved in tuple:')\n",
    "result_tuple=tuple(l)\n",
    "print(result_tuple)"
   ]
  },
  {
   "cell_type": "markdown",
   "metadata": {},
   "source": [
    "2\\. **The swap**\n",
    "\n",
    "Write a program that swaps the values of two input variables *x* and *y* from command line (whatever the type).\n",
    "\n",
    "Try to do that without using a temporary variable, exploiting the Python syntax."
   ]
  },
  {
   "cell_type": "code",
   "execution_count": 54,
   "metadata": {},
   "outputs": [
    {
     "name": "stdout",
     "output_type": "stream",
     "text": [
      "Set the value of the first number: 15\n",
      "Set the value of the second number: 35\n",
      "First number after change x= 35\n",
      "Second number after change y= 15\n"
     ]
    }
   ],
   "source": [
    "#Task 2\n",
    "a=int(input('Set the value of the first number: '))\n",
    "b=int(input('Set the value of the second number: '))\n",
    "def swap(x,y ):\n",
    "    \n",
    "    x=x+y\n",
    "    y=x-y\n",
    "    x=x-y\n",
    "\n",
    "    print(\"First number after change x=\",x)\n",
    "    print(\"Second number after change y=\",y)\n",
    "    \n",
    "swap(a,b)"
   ]
  },
  {
   "cell_type": "markdown",
   "metadata": {},
   "source": [
    "3\\. **Computing the distance**\n",
    "\n",
    "Write a function that calculates and returns the euclidean distance between two points *u* and *v* in a 2D space, where *u* and *v* are both 2-tuples *(x,y)*.\n",
    "\n",
    "Example: if *u=(3,0)* and *v=(0,4)*, the function should return 5.\n",
    "\n",
    "*Hint:* in order to compute the square root, import the `math` library with `import math` and use `math.sqrt()`."
   ]
  },
  {
   "cell_type": "code",
   "execution_count": 5,
   "metadata": {},
   "outputs": [
    {
     "data": {
      "text/plain": [
       "5.0"
      ]
     },
     "execution_count": 5,
     "metadata": {},
     "output_type": "execute_result"
    }
   ],
   "source": [
    "#Task 3\n",
    "\n",
    "import math \n",
    "def eud_distance(u,v):\n",
    "    result=math.sqrt(pow((u[0]-v[0]),2)+ pow((u[1]-v[1]),2))\n",
    "    return result\n",
    "u=(3,0)\n",
    "v=(0,4)\n",
    "eud_distance(u,v)\n"
   ]
  },
  {
   "cell_type": "markdown",
   "metadata": {},
   "source": [
    "4\\. **Counting letters**\n",
    "\n",
    "Write a program that calculates the number of times each character occurs in a given string. Ignore differences in capitalization.\n",
    "\n",
    "The strings are in the cell below."
   ]
  },
  {
   "cell_type": "code",
   "execution_count": 62,
   "metadata": {},
   "outputs": [],
   "source": [
    "s1 = \"Write a program that prints the numbers from 1 to 100. \\\n",
    "But for multiples of three print Hello instead of the number and for the multiples of five print World. \\\n",
    "For numbers which are multiples of both three and five print HelloWorld.\"\n",
    "s2 = \"The quick brown fox jumps over the lazy dog\""
   ]
  },
  {
   "cell_type": "code",
   "execution_count": 63,
   "metadata": {},
   "outputs": [
    {
     "name": "stdout",
     "output_type": "stream",
     "text": [
      "Unique charachters in the string 1:\n",
      "['v', 'g', 'l', 'b', 'f', 'i', 'm', ' ', 'o', 'h', 'e', 'p', 'w', 'u', 's', 'a', 'd', '0', '.', '1', 'r', 't', 'n', 'c']\n",
      "Charachter:  v  occurs:  2\n",
      "Charachter:  g  occurs:  1\n",
      "Charachter:  l  occurs:  12\n",
      "Charachter:  b  occurs:  5\n",
      "Charachter:  f  occurs:  10\n",
      "Charachter:  i  occurs:  12\n",
      "Charachter:  m  occurs:  8\n",
      "Charachter:     occurs:  41\n",
      "Charachter:  o  occurs:  15\n",
      "Charachter:  h  occurs:  11\n",
      "Charachter:  e  occurs:  20\n",
      "Charachter:  p  occurs:  8\n",
      "Charachter:  w  occurs:  4\n",
      "Charachter:  u  occurs:  7\n",
      "Charachter:  s  occurs:  7\n",
      "Charachter:  a  occurs:  7\n",
      "Charachter:  d  occurs:  5\n",
      "Charachter:  0  occurs:  2\n",
      "Charachter:  .  occurs:  3\n",
      "Charachter:  1  occurs:  2\n",
      "Charachter:  r  occurs:  19\n",
      "Charachter:  t  occurs:  19\n",
      "Charachter:  n  occurs:  10\n",
      "Charachter:  c  occurs:  1\n"
     ]
    }
   ],
   "source": [
    "#Task 4-string 1\n",
    "#we have to ignore casesensitivity, so let's covert text in lower cases\n",
    "s1=s1.lower()\n",
    "unique_char1=set(s1)\n",
    "unique_char1=list(unique_char1)\n",
    "print('Unique charachters in the string 1:')\n",
    "print(unique_char1)\n",
    "\n",
    "\n",
    "for i in range(len(unique_char1)):\n",
    "    d= s1.count(unique_char1[i])\n",
    "    print('Charachter: ' , unique_char1[i], ' occurs: ' , d)    \n",
    "    "
   ]
  },
  {
   "cell_type": "code",
   "execution_count": 64,
   "metadata": {},
   "outputs": [
    {
     "name": "stdout",
     "output_type": "stream",
     "text": [
      "Unique characters of the string2\n",
      "['v', 'g', 'l', 'b', 'f', 'i', 'm', 'z', ' ', 'o', 'h', 'e', 'p', 'x', 'w', 'u', 's', 'a', 'd', 'q', 'r', 'y', 't', 'j', 'k', 'c', 'n']\n",
      "Charachter:  v  occurs:  1\n",
      "Charachter:  g  occurs:  1\n",
      "Charachter:  l  occurs:  1\n",
      "Charachter:  b  occurs:  1\n",
      "Charachter:  f  occurs:  1\n",
      "Charachter:  i  occurs:  1\n",
      "Charachter:  m  occurs:  1\n",
      "Charachter:  z  occurs:  1\n",
      "Charachter:     occurs:  8\n",
      "Charachter:  o  occurs:  4\n",
      "Charachter:  h  occurs:  2\n",
      "Charachter:  e  occurs:  3\n",
      "Charachter:  p  occurs:  1\n",
      "Charachter:  x  occurs:  1\n",
      "Charachter:  w  occurs:  1\n",
      "Charachter:  u  occurs:  2\n",
      "Charachter:  s  occurs:  1\n",
      "Charachter:  a  occurs:  1\n",
      "Charachter:  d  occurs:  1\n",
      "Charachter:  q  occurs:  1\n",
      "Charachter:  r  occurs:  2\n",
      "Charachter:  y  occurs:  1\n",
      "Charachter:  t  occurs:  2\n",
      "Charachter:  j  occurs:  1\n",
      "Charachter:  k  occurs:  1\n",
      "Charachter:  c  occurs:  1\n",
      "Charachter:  n  occurs:  1\n"
     ]
    }
   ],
   "source": [
    "#Task 4, string 2\n",
    "s2=s2.lower();\n",
    "uniq_char2=set(s2);\n",
    "#we need to convert set in the list\n",
    "uniq_char2=list(uniq_char2)\n",
    "print('Unique characters of the string2')\n",
    "print(uniq_char2)\n",
    "\n",
    "for i in range(len(uniq_char2)):\n",
    "    x=s2.count(uniq_char2[i])\n",
    "    print('Charachter: ' , uniq_char2[i], ' occurs: ' , x)\n"
   ]
  },
  {
   "cell_type": "markdown",
   "metadata": {},
   "source": [
    "5\\. **Isolating the unique**\n",
    "\n",
    "Write a program that determines and counts the unique numbers in the list:"
   ]
  },
  {
   "cell_type": "code",
   "execution_count": 65,
   "metadata": {},
   "outputs": [],
   "source": [
    "l = [36, 45, 58, 3, 74, 96, 64, 45, 31, 10, 24, 19, 33, 86, 99, 18, 63, 70, 85,\n",
    " 85, 63, 47, 56, 42, 70, 84, 88, 55, 20, 54, 8, 56, 51, 79, 81, 57, 37, 91,\n",
    " 1, 84, 84, 36, 66, 9, 89, 50, 42, 91, 50, 95, 90, 98, 39, 16, 82, 31, 92, 41,\n",
    " 45, 30, 66, 70, 34, 85, 94, 5, 3, 36, 72, 91, 84, 34, 87, 75, 53, 51, 20, 89, 51, 20]"
   ]
  },
  {
   "cell_type": "code",
   "execution_count": 66,
   "metadata": {},
   "outputs": [
    {
     "name": "stdout",
     "output_type": "stream",
     "text": [
      "{36: 3, 45: 3, 58: 1, 3: 2, 74: 1, 96: 1, 64: 1, 31: 2, 10: 1, 24: 1, 19: 1, 33: 1, 86: 1, 99: 1, 18: 1, 63: 2, 70: 3, 85: 3, 47: 1, 56: 2, 42: 2, 84: 4, 88: 1, 55: 1, 20: 3, 54: 1, 8: 1, 51: 3, 79: 1, 81: 1, 57: 1, 37: 1, 91: 3, 1: 1, 66: 2, 9: 1, 89: 2, 50: 2, 95: 1, 90: 1, 98: 1, 39: 1, 16: 1, 82: 1, 92: 1, 41: 1, 30: 1, 34: 2, 94: 1, 5: 1, 72: 1, 87: 1, 75: 1, 53: 1}\n"
     ]
    }
   ],
   "source": [
    "#Task 5\n",
    "#Calculating how many times numbers occurs in the list and represents it like pair key:value in dictionary, where key is number\n",
    "x={}\n",
    "for i in l:\n",
    "    if i in x:\n",
    "        x[i]+=1\n",
    "    else:\n",
    "        x[i]=1\n",
    "print(x)\n"
   ]
  },
  {
   "cell_type": "code",
   "execution_count": 71,
   "metadata": {},
   "outputs": [
    {
     "name": "stdout",
     "output_type": "stream",
     "text": [
      "Unique numbers in the list: [1, 5, 8, 9, 10, 16, 18, 19, 24, 30, 33, 37, 39, 41, 47, 53, 54, 55, 57, 58, 64, 72, 74, 75, 79, 81, 82, 86, 87, 88, 90, 92, 94, 95, 96, 98, 99]\n"
     ]
    },
    {
     "data": {
      "text/plain": [
       "37"
      ]
     },
     "execution_count": 71,
     "metadata": {},
     "output_type": "execute_result"
    }
   ],
   "source": [
    "#Task 5\n",
    "#Finding unique numbers \n",
    "l1=[]\n",
    "for key, val in x.items():\n",
    "    if val==1:\n",
    "        l1.append(key)\n",
    "        \n",
    "l1.sort()        \n",
    "print(\"Unique numbers in the list:\",l1)\n"
   ]
  },
  {
   "cell_type": "markdown",
   "metadata": {},
   "source": [
    "6\\. **Casting**\n",
    "\n",
    "Write a program that:\n",
    "* reads from command line two variables, that can be either `int`, `float`, or `str`.\n",
    "* use the `try`/`except` expressions to perform the addition of these two variables, only if possible\n",
    "* and print the result without making the code crash for all the `int`/`float`/`str` input combinations."
   ]
  },
  {
   "cell_type": "code",
   "execution_count": 84,
   "metadata": {},
   "outputs": [
    {
     "name": "stdout",
     "output_type": "stream",
     "text": [
      "Set the value of the x: -53.2l\n",
      "Set the value of the y: 12\n",
      "could not convert string to float: '-53.2l'\n",
      "It is not possible to sum  -53.2l  and  12\n"
     ]
    }
   ],
   "source": [
    "#Task 6\n",
    "\n",
    "\n",
    "try:\n",
    "    x=input('Set the value of the x: ')\n",
    "    y=input('Set the value of the y: ')\n",
    "    \n",
    "    if x.isdigit() and y.isdigit():\n",
    "        \n",
    "        x=int(x)\n",
    "        y=int(y)\n",
    "        b= x + y\n",
    "        print(b)\n",
    "        \n",
    "    elif ('.' in x or '.' in y) or ('-' in x or '-' in y) :\n",
    "        x=float(x)\n",
    "        y=float(y)\n",
    "        b= x + y\n",
    "        print(b)\n",
    "        \n",
    "    else:\n",
    "        b= x + y\n",
    "        print(b)\n",
    "    \n",
    "except Exception as e:\n",
    "    print(e)\n",
    "    print('It is not possible to sum ', x, ' and ' , y)"
   ]
  },
  {
   "cell_type": "markdown",
   "metadata": {},
   "source": [
    "Do the same exploiting only the Python data structures."
   ]
  },
  {
   "cell_type": "markdown",
   "metadata": {},
   "source": [
    "#### 7\\. **Cubes**\n",
    "\n",
    "Create a list of the cubes of *x* for *x* in *[0, 10]* using:\n",
    "\n",
    "a) a for loop\n",
    "\n",
    "b) a list comprehension"
   ]
  },
  {
   "cell_type": "code",
   "execution_count": 72,
   "metadata": {},
   "outputs": [
    {
     "name": "stdout",
     "output_type": "stream",
     "text": [
      "[0, 1, 2, 3, 4, 5, 6, 7, 8, 9]\n",
      "[0, 1, 8, 27, 64, 125, 216, 343, 512, 729]\n"
     ]
    }
   ],
   "source": [
    "#Task 7a\n",
    "l2=[]\n",
    "for i in range (10):\n",
    "    l2.append(i)\n",
    "    \n",
    "print(l2)    \n",
    "\n",
    "for i in range (len(l2)):\n",
    "    l2[i]=i*i*i\n",
    "\n",
    "print(l2)\n",
    "    "
   ]
  },
  {
   "cell_type": "code",
   "execution_count": 76,
   "metadata": {},
   "outputs": [
    {
     "name": "stdout",
     "output_type": "stream",
     "text": [
      "[0, 1, 2, 3, 4, 5, 6, 7, 8, 9]\n",
      "[0, 1, 8, 27, 64, 125, 216, 343, 512, 729]\n",
      "[0, 1, 8, 27, 64, 125, 216, 343, 512, 729]\n"
     ]
    }
   ],
   "source": [
    "#Task 7b\n",
    "\n",
    "l3=[i for i in range(0,10)]\n",
    "print(l3)\n",
    "\n",
    "for i in range (0,len(l3)):\n",
    "    l3[i]=pow(i,3)\n",
    "print(l3)\n",
    "\n",
    "l4=[i*i*i for i in range(0,10)]\n",
    "print(l4)"
   ]
  },
  {
   "cell_type": "markdown",
   "metadata": {},
   "source": [
    "8\\. **List comprehension**\n",
    "\n",
    "Write, using the list comprehension, a single-line expression that gets the same result as the code in the cell below."
   ]
  },
  {
   "cell_type": "code",
   "execution_count": 44,
   "metadata": {},
   "outputs": [
    {
     "name": "stdout",
     "output_type": "stream",
     "text": [
      "[(0, 0), (0, 1), (0, 2), (0, 3), (1, 0), (1, 1), (1, 2), (1, 3), (2, 0), (2, 1), (2, 2), (2, 3)]\n"
     ]
    }
   ],
   "source": [
    "a = []\n",
    "for i in range(3):\n",
    "    for j in range(4):\n",
    "        a.append((i, j))\n",
    "print(a)"
   ]
  },
  {
   "cell_type": "code",
   "execution_count": 77,
   "metadata": {},
   "outputs": [
    {
     "name": "stdout",
     "output_type": "stream",
     "text": [
      "[(0, 0), (0, 1), (0, 2), (0, 3), (1, 0), (1, 1), (1, 2), (1, 3), (2, 0), (2, 1), (2, 2), (2, 3)]\n"
     ]
    }
   ],
   "source": [
    "#Task 8\n",
    "a = [(i,j) for i in range(0,3) for j in range (0,4)]\n",
    "print(a)\n"
   ]
  },
  {
   "cell_type": "markdown",
   "metadata": {},
   "source": [
    "9\\. **Nested list comprehension**\n",
    "\n",
    "> A Pythagorean triple is an integer solution to the Pythagorean theorem $a^2+b^2=c^2$. The first Pythagorean triple is (3, 4, 5).\n",
    "\n",
    "Find and put in a tuple all unique Pythagorean triples for the positive integers $a$, $b$ and $c$ with $c < 100$."
   ]
  },
  {
   "cell_type": "code",
   "execution_count": 8,
   "metadata": {},
   "outputs": [
    {
     "name": "stdout",
     "output_type": "stream",
     "text": [
      "((3, 4, 5), (5, 12, 13), (6, 8, 10), (7, 24, 25), (8, 15, 17), (9, 12, 15), (9, 40, 41), (10, 24, 26), (11, 60, 61), (12, 16, 20), (12, 35, 37), (13, 84, 85), (14, 48, 50), (15, 20, 25), (15, 36, 39), (16, 30, 34), (16, 63, 65), (18, 24, 30), (18, 80, 82), (20, 21, 29), (20, 48, 52), (21, 28, 35), (21, 72, 75), (24, 32, 40), (24, 45, 51), (24, 70, 74), (25, 60, 65), (27, 36, 45), (28, 45, 53), (30, 40, 50), (30, 72, 78), (32, 60, 68), (33, 44, 55), (33, 56, 65), (35, 84, 91), (36, 48, 60), (36, 77, 85), (39, 52, 65), (39, 80, 89), (40, 42, 58), (40, 75, 85), (42, 56, 70), (45, 60, 75), (48, 55, 73), (48, 64, 80), (51, 68, 85), (54, 72, 90), (57, 76, 95), (60, 63, 87), (65, 72, 97))\n"
     ]
    }
   ],
   "source": [
    "#Task 9\n",
    "\n",
    "result=[(a,b,c) for a in range(1,100) for b in range(a+1,100) for c in range(1,100) if a**2 + b**2 == c**2 and c<100 ]\n",
    "tup=tuple(result)\n",
    "print(tup)"
   ]
  },
  {
   "cell_type": "markdown",
   "metadata": {},
   "source": [
    "10\\. **Normalization of a N-dimensional vector**\n",
    "\n",
    "Write a program that takes an N-dimensional vector, e.g. a variable-length tuple of numbers, and normalizes it to one (in such a way that the squared sum of all the entries is equal to 1)."
   ]
  },
  {
   "cell_type": "code",
   "execution_count": 7,
   "metadata": {},
   "outputs": [
    {
     "name": "stdout",
     "output_type": "stream",
     "text": [
      "(0.2672612419124244, 0.5345224838248488, 0.8017837257372732)\n",
      "1.0\n"
     ]
    }
   ],
   "source": [
    "#Task 10\n",
    "import math\n",
    "def norm(x):\n",
    "    xi_squared=[i**2 for i in x]\n",
    "    sum_of_xi_squared=sum(xi_squared)\n",
    "    n=math.sqrt(sum_of_xi_squared)\n",
    "    result=[i/n for i in x]\n",
    "    return tuple(result)\n",
    "vec=[1,2,3]\n",
    "a=norm(vec)\n",
    "\n",
    "print(norm(vec))\n",
    "s=[i**2 for i in a]\n",
    "print(sum(s))\n"
   ]
  },
  {
   "cell_type": "markdown",
   "metadata": {},
   "source": [
    "11\\. **The Fibonacci sequence**\n",
    "\n",
    "Calculate the first 20 numbers of the [Fibonacci sequence](https://en.wikipedia.org/wiki/Fibonacci_number) using only `for` or `while` loops."
   ]
  },
  {
   "cell_type": "code",
   "execution_count": 78,
   "metadata": {},
   "outputs": [
    {
     "name": "stdout",
     "output_type": "stream",
     "text": [
      "First 20 Fibonacci numbers:\n",
      "0\n",
      "1\n",
      "1\n",
      "2\n",
      "3\n",
      "5\n",
      "8\n",
      "13\n",
      "21\n",
      "34\n",
      "55\n",
      "89\n",
      "144\n",
      "233\n",
      "377\n",
      "610\n",
      "987\n",
      "1597\n",
      "2584\n",
      "4181\n"
     ]
    }
   ],
   "source": [
    "#Task 11\n",
    "#we set the value of i to calculate Fibonacci's number \n",
    "i = 1\n",
    "num1, num2=0,1\n",
    "print(\"First 20 Fibonacci numbers:\")\n",
    "while i < 21:\n",
    "    \n",
    "    print(num1)\n",
    "    next = num1 + num2\n",
    "    \n",
    "    # update values\n",
    "    num1 = num2\n",
    "    num2 = next\n",
    "    i+= 1\n",
    "\n"
   ]
  },
  {
   "cell_type": "code",
   "execution_count": null,
   "metadata": {},
   "outputs": [],
   "source": []
  }
 ],
 "metadata": {
  "kernelspec": {
   "display_name": "Python 3 (ipykernel)",
   "language": "python",
   "name": "python3"
  },
  "language_info": {
   "codemirror_mode": {
    "name": "ipython",
    "version": 3
   },
   "file_extension": ".py",
   "mimetype": "text/x-python",
   "name": "python",
   "nbconvert_exporter": "python",
   "pygments_lexer": "ipython3",
   "version": "3.9.7"
  }
 },
 "nbformat": 4,
 "nbformat_minor": 4
}
