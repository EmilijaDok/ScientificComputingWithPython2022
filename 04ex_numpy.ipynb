{
 "cells": [
  {
   "cell_type": "markdown",
   "metadata": {},
   "source": [
    "1\\. **Reductions**\n",
    "\n",
    "Find the total mean, and the mean for each row and column of the following matrix:\n",
    "\n",
    "```python\n",
    "m = np.arange(12).reshape((3,4))\n",
    "```"
   ]
  },
  {
   "cell_type": "code",
   "execution_count": 29,
   "metadata": {},
   "outputs": [
    {
     "name": "stdout",
     "output_type": "stream",
     "text": [
      "[[ 0  1  2  3]\n",
      " [ 4  5  6  7]\n",
      " [ 8  9 10 11]]\n",
      "Total mean of the matrix: 5.5\n",
      "Mean of the each row: [1.5 5.5 9.5]\n",
      "Mean of the each column: [4. 5. 6. 7.]\n"
     ]
    }
   ],
   "source": [
    "import numpy as np\n",
    "#Task 1\n",
    "\n",
    "m = np.arange(12).reshape((3,4))\n",
    "print(m)\n",
    "\n",
    "total_mean=np.mean(m)\n",
    "row_mean=m.mean(axis=1)\n",
    "column_mean=m.mean(axis=0)\n",
    "\n",
    "print(\"Total mean of the matrix:\",total_mean)\n",
    "print(\"Mean of the each row:\", row_mean)\n",
    "print(\"Mean of the each column:\",column_mean)"
   ]
  },
  {
   "cell_type": "markdown",
   "metadata": {},
   "source": [
    "2\\. **Outer product**\n",
    "\n",
    "Find the outer product of the following vectors:\n",
    "\n",
    "```python\n",
    "u = np.array([1, 3, 5, 7])\n",
    "v = np.array([2, 4, 6, 8])\n",
    "```\n",
    "\n",
    "Use different methods to do this:\n",
    "\n",
    "   1. Using the function `outer` in numpy\n",
    "   2. Using a nested `for` loop or a list comprehension\n",
    "   3. Using numpy broadcasting operations"
   ]
  },
  {
   "cell_type": "code",
   "execution_count": 30,
   "metadata": {},
   "outputs": [
    {
     "name": "stdout",
     "output_type": "stream",
     "text": [
      "NumPy outer product function:\n",
      " [[ 2  4  6  8]\n",
      " [ 6 12 18 24]\n",
      " [10 20 30 40]\n",
      " [14 28 42 56]]\n",
      "List comprehison outer product:  [[ 2  4  6  8]\n",
      " [ 6 12 18 24]\n",
      " [10 20 30 40]\n",
      " [14 28 42 56]]\n",
      "Broadcasted outer product:'\n",
      " [[ 2  4  6  8]\n",
      " [ 6 12 18 24]\n",
      " [10 20 30 40]\n",
      " [14 28 42 56]]\n"
     ]
    }
   ],
   "source": [
    "#Task 2\n",
    "u = np.array([1, 3, 5, 7])\n",
    "v = np.array([2, 4, 6, 8])\n",
    "\n",
    "#a\n",
    "#Outer product with outer function from numpy\n",
    "x=np.outer(u,v)\n",
    "print(\"NumPy outer product function:\\n\",x)\n",
    "\n",
    "#b\n",
    "#Calculating outer product using list comprehension\n",
    "y=np.array([i*j for i in u for j in v]).reshape(4,4)\n",
    "print(\"List comprehison outer product: \",y)\n",
    "\n",
    "#c\n",
    "#Calculating outer product using numpy broadcasting operation\n",
    "z=np.tile(v,4)\n",
    "z=z.reshape(4,4)\n",
    "z=z.T\n",
    "print(\"Broadcasted outer product:'\\n\" , (z*u).T)\n"
   ]
  },
  {
   "cell_type": "markdown",
   "metadata": {},
   "source": [
    "3\\. **Matrix masking**\n",
    "\n",
    "Create a 10 by 6 matrix of float random numbers, distributed between 0 and 3 according to a flat distribution.\n",
    "\n",
    "After creating the matrix, set all entries $< 0.3$ to zero using a mask."
   ]
  },
  {
   "cell_type": "code",
   "execution_count": 31,
   "metadata": {},
   "outputs": [
    {
     "name": "stdout",
     "output_type": "stream",
     "text": [
      "Matrix of random numbers: \n",
      " [[2.08940756 0.858418   0.68055436 1.65394431 2.15840691 1.26931938]\n",
      " [2.9422926  2.05448922 1.4427957  1.17635255 1.02953405 2.18714912]\n",
      " [1.31571673 0.17903369 1.19413277 2.21398622 0.54747519 0.52635527]\n",
      " [1.59465412 1.59548276 1.90320288 2.54829538 2.17336597 1.83307053]\n",
      " [2.16733015 0.96887674 1.08536597 0.68478969 0.88114214 1.89292837]\n",
      " [0.27631482 1.30110352 1.29258829 1.48105529 1.27749087 0.93678367]\n",
      " [1.27905392 2.68016749 2.83248005 1.50551003 1.87185886 0.34685519]\n",
      " [0.95185645 1.24447864 2.59892747 0.7513661  1.44910279 2.95667936]\n",
      " [1.55845536 1.83868358 0.361886   2.4790224  1.80918039 1.63520402]\n",
      " [1.0282915  0.91236237 1.25106663 2.0439023  2.62637053 1.53126701]]\n",
      "\n",
      "After setting values, matrix m:\n",
      " [[2.08940756 0.858418   0.68055436 1.65394431 2.15840691 1.26931938]\n",
      " [2.9422926  2.05448922 1.4427957  1.17635255 1.02953405 2.18714912]\n",
      " [1.31571673 0.         1.19413277 2.21398622 0.54747519 0.52635527]\n",
      " [1.59465412 1.59548276 1.90320288 2.54829538 2.17336597 1.83307053]\n",
      " [2.16733015 0.96887674 1.08536597 0.68478969 0.88114214 1.89292837]\n",
      " [0.         1.30110352 1.29258829 1.48105529 1.27749087 0.93678367]\n",
      " [1.27905392 2.68016749 2.83248005 1.50551003 1.87185886 0.34685519]\n",
      " [0.95185645 1.24447864 2.59892747 0.7513661  1.44910279 2.95667936]\n",
      " [1.55845536 1.83868358 0.361886   2.4790224  1.80918039 1.63520402]\n",
      " [1.0282915  0.91236237 1.25106663 2.0439023  2.62637053 1.53126701]]\n"
     ]
    }
   ],
   "source": [
    "#Task 3\n",
    "import numpy.random as npr\n",
    "npr.seed(123)\n",
    "\n",
    "#flat distribution is uniform; uniform is defined to [0,1) so in order to get [0,3) we multiple [0,1) with 3\n",
    "m=npr.rand(10,6)*3\n",
    "print('Matrix of random numbers: \\n', m)\n",
    "\n",
    "#now we use mask to set to 0 all entries less than 0.3\n",
    "#mask or fancy indexing\n",
    "\n",
    "m[m<0.3]=0 #finds indexes of matrix m for which is true that values of mij<0.3 and sets their values to 0\n",
    "print('\\nAfter setting values, matrix m:\\n',m)\n"
   ]
  },
  {
   "cell_type": "markdown",
   "metadata": {},
   "source": [
    "4\\. **Trigonometric functions**\n",
    "\n",
    "Use `np.linspace` to create an array of 100 numbers between $0$ and $2\\pi$ (inclusive).\n",
    "\n",
    "  * Extract every 10th element using the slice notation\n",
    "  * Reverse the array using the slice notation\n",
    "  * Extract elements where the absolute difference between the `sin` and `cos` functions evaluated for that element is $< 0.1$\n",
    "  * **Optional**: make a plot showing the sin and cos functions and indicate where they are close"
   ]
  },
  {
   "cell_type": "code",
   "execution_count": 32,
   "metadata": {},
   "outputs": [
    {
     "name": "stdout",
     "output_type": "stream",
     "text": [
      "[0.         0.06346652 0.12693304 0.19039955 0.25386607 0.31733259\n",
      " 0.38079911 0.44426563 0.50773215 0.57119866 0.63466518 0.6981317\n",
      " 0.76159822 0.82506474 0.88853126 0.95199777 1.01546429 1.07893081\n",
      " 1.14239733 1.20586385 1.26933037 1.33279688 1.3962634  1.45972992\n",
      " 1.52319644 1.58666296 1.65012947 1.71359599 1.77706251 1.84052903\n",
      " 1.90399555 1.96746207 2.03092858 2.0943951  2.15786162 2.22132814\n",
      " 2.28479466 2.34826118 2.41172769 2.47519421 2.53866073 2.60212725\n",
      " 2.66559377 2.72906028 2.7925268  2.85599332 2.91945984 2.98292636\n",
      " 3.04639288 3.10985939 3.17332591 3.23679243 3.30025895 3.36372547\n",
      " 3.42719199 3.4906585  3.55412502 3.61759154 3.68105806 3.74452458\n",
      " 3.8079911  3.87145761 3.93492413 3.99839065 4.06185717 4.12532369\n",
      " 4.1887902  4.25225672 4.31572324 4.37918976 4.44265628 4.5061228\n",
      " 4.56958931 4.63305583 4.69652235 4.75998887 4.82345539 4.88692191\n",
      " 4.95038842 5.01385494 5.07732146 5.14078798 5.2042545  5.26772102\n",
      " 5.33118753 5.39465405 5.45812057 5.52158709 5.58505361 5.64852012\n",
      " 5.71198664 5.77545316 5.83891968 5.9023862  5.96585272 6.02931923\n",
      " 6.09278575 6.15625227 6.21971879 6.28318531]\n",
      "\n",
      " Array with extracted every 10th element [0.57119866 1.20586385 1.84052903 2.47519421 3.10985939 3.74452458\n",
      " 4.37918976 5.01385494 5.64852012 6.28318531] \n",
      "\n",
      "\n",
      " Reverse array:\n",
      " [6.28318531 6.21971879 6.15625227 6.09278575 6.02931923 5.96585272\n",
      " 5.9023862  5.83891968 5.77545316 5.71198664 5.64852012 5.58505361\n",
      " 5.52158709 5.45812057 5.39465405 5.33118753 5.26772102 5.2042545\n",
      " 5.14078798 5.07732146 5.01385494 4.95038842 4.88692191 4.82345539\n",
      " 4.75998887 4.69652235 4.63305583 4.56958931 4.5061228  4.44265628\n",
      " 4.37918976 4.31572324 4.25225672 4.1887902  4.12532369 4.06185717\n",
      " 3.99839065 3.93492413 3.87145761 3.8079911  3.74452458 3.68105806\n",
      " 3.61759154 3.55412502 3.4906585  3.42719199 3.36372547 3.30025895\n",
      " 3.23679243 3.17332591 3.10985939 3.04639288 2.98292636 2.91945984\n",
      " 2.85599332 2.7925268  2.72906028 2.66559377 2.60212725 2.53866073\n",
      " 2.47519421 2.41172769 2.34826118 2.28479466 2.22132814 2.15786162\n",
      " 2.0943951  2.03092858 1.96746207 1.90399555 1.84052903 1.77706251\n",
      " 1.71359599 1.65012947 1.58666296 1.52319644 1.45972992 1.3962634\n",
      " 1.33279688 1.26933037 1.20586385 1.14239733 1.07893081 1.01546429\n",
      " 0.95199777 0.88853126 0.82506474 0.76159822 0.6981317  0.63466518\n",
      " 0.57119866 0.50773215 0.44426563 0.38079911 0.31733259 0.25386607\n",
      " 0.19039955 0.12693304 0.06346652 0.        ]\n",
      "\n",
      " Reversed array with extracted every 10th element:\n",
      " [6.28318531 5.64852012 5.01385494 4.37918976 3.74452458 3.10985939\n",
      " 2.47519421 1.84052903 1.20586385 0.57119866]\n",
      "\n",
      "Extracted elements of x:\n",
      "  [0.7615982190520711, 0.8250647373064104, 3.8714576135146945, 3.934924131769034]\n",
      "Optional part: \n",
      "\n"
     ]
    },
    {
     "data": {
      "image/png": "[encoded data removed]",
      "text/plain": [
       "<Figure size 432x288 with 1 Axes>"
      ]
     },
     "metadata": {
      "needs_background": "light"
     },
     "output_type": "display_data"
    }
   ],
   "source": [
    "#Task 4\n",
    "import math\n",
    "import matplotlib.pyplot as plt\n",
    "\n",
    "x=np.linspace(0,2*math.pi,100)#an array of 100 numbers in interval 0 to 2*pi\n",
    "print(x)\n",
    "#Extract every 10th element\n",
    "y=x[9::10]\n",
    "print('\\n Array with extracted every 10th element',y,'\\n')\n",
    "\n",
    "#Reverse array\n",
    "#I am not sure which array should be reversed\n",
    "print(\"\\n Reverse array:\\n\", x[::-1])\n",
    "print(\"\\n Reversed array with extracted every 10th element:\\n\", y[::-1])\n",
    "\n",
    "#Extract elements where the absolute difference between the sin and cos fucntions evaluated for the element is <0.1\n",
    "z=[i for i in  x if abs(math.sin(i)-math.cos(i))<0.1]\n",
    "print(\"\\nExtracted elements of x:\\n \",z)\n",
    "\n",
    "#Plotiing-Optional part\n",
    "print('Optional part: \\n')\n",
    "plt.plot(x, np.cos(x), label='cos')\n",
    "plt.plot(x, np.sin(x), label='sin')\n",
    "plt.legend()\n",
    "plt.scatter(z, np.cos(z), c='red')\n",
    "#plt.scatter(z, np.sin(z), c='red')\n",
    "plt.show()\n",
    "\n"
   ]
  },
  {
   "cell_type": "markdown",
   "metadata": {},
   "source": [
    "5\\. **Matrices**\n",
    "\n",
    "Create a matrix that shows the 10 by 10 multiplication table.\n",
    "\n",
    " * Find the trace of the matrix\n",
    " * Extract the anti-diagonal matrix (this should be ```array([10, 18, 24, 28, 30, 30, 28, 24, 18, 10])```)\n",
    " * Extract the diagonal offset by 1 upwards (this should be ```array([ 2,  6, 12, 20, 30, 42, 56, 72, 90])```)"
   ]
  },
  {
   "cell_type": "code",
   "execution_count": 33,
   "metadata": {},
   "outputs": [
    {
     "name": "stdout",
     "output_type": "stream",
     "text": [
      "\n",
      "Matrix\n",
      " [[  1   2   3   4   5   6   7   8   9  10]\n",
      " [  2   4   6   8  10  12  14  16  18  20]\n",
      " [  3   6   9  12  15  18  21  24  27  30]\n",
      " [  4   8  12  16  20  24  28  32  36  40]\n",
      " [  5  10  15  20  25  30  35  40  45  50]\n",
      " [  6  12  18  24  30  36  42  48  54  60]\n",
      " [  7  14  21  28  35  42  49  56  63  70]\n",
      " [  8  16  24  32  40  48  56  64  72  80]\n",
      " [  9  18  27  36  45  54  63  72  81  90]\n",
      " [ 10  20  30  40  50  60  70  80  90 100]]\n",
      "\n",
      "Trace:\n",
      " 385\n",
      "[[0, 9], [1, 8], [2, 7], [3, 6], [4, 5], [5, 4], [6, 3], [7, 2], [8, 1], [9, 0]]\n",
      "\n",
      "Elements on the antidiagonal are: \n",
      " [10, 18, 24, 28, 30, 30, 28, 24, 18, 10]\n",
      "\n",
      "Elements on the diagonal upward are:\n",
      " [2, 6, 12, 20, 30, 42, 56, 72, 90]\n"
     ]
    }
   ],
   "source": [
    "#Task 5\n",
    "x=np.arange(1,11)\n",
    "m=np.outer(x,x,out=None)\n",
    "print(\"\\nMatrix\\n\",m)\n",
    "\n",
    "#Trace of the matrix, sum of the elements on the main diagonal\n",
    "tr=np.trace(m)\n",
    "print(\"\\nTrace:\\n\",tr)\n",
    "\n",
    "#Antidiagonal matrix\n",
    "#idea: indexes on the diagonal i+j==9\n",
    "ad=[[i,j] for i in range(0,10) for j in range(0,10) if i+j==9]\n",
    "print(ad)#I got indexes of the antidiagonal elements\n",
    "adig=[]\n",
    "for i in range(0,10):\n",
    "    for j in range(0,10):\n",
    "        if i+j==9:\n",
    "            adig.append(m[i,j])\n",
    "\n",
    "print(\"\\nElements on the antidiagonal are: \\n\",adig)        \n",
    "        \n",
    "\n",
    "#Diagonal offset upwards\n",
    "#idea:i<j and j-i==1\n",
    "off_up=[]\n",
    "for i in range(0,10):\n",
    "    for j in range(0,10):\n",
    "        if i<j and j-i==1:\n",
    "            off_up.append(m[i,j])\n",
    "print(\"\\nElements on the diagonal upward are:\\n\", off_up)"
   ]
  },
  {
   "cell_type": "markdown",
   "metadata": {},
   "source": [
    "6\\. **Broadcasting**\n",
    "\n",
    "Use broadcasting to create a grid of distances.\n",
    "\n",
    "Route 66 crosses the following cities in the US: Chicago, Springfield, Saint-Louis, Tulsa, Oklahoma City, Amarillo, Santa Fe, Albuquerque, Flagstaff, Los Angeles.\n",
    "\n",
    "The corresponding positions in miles are: 0, 198, 303, 736, 871, 1175, 1475, 1544, 1913, 2448\n",
    "\n",
    "  * Build a 2D grid of distances among each city along Route 66\n",
    "  * Convert the distances in km"
   ]
  },
  {
   "cell_type": "code",
   "execution_count": 34,
   "metadata": {},
   "outputs": [
    {
     "name": "stdout",
     "output_type": "stream",
     "text": [
      "2D grid distances among each city in the miles: \n",
      " [[   0  198  303  736  871 1175 1475 1544 1913 2448]\n",
      " [ 198    0  105  538  673  977 1277 1346 1715 2250]\n",
      " [ 303  105    0  433  568  872 1172 1241 1610 2145]\n",
      " [ 736  538  433    0  135  439  739  808 1177 1712]\n",
      " [ 871  673  568  135    0  304  604  673 1042 1577]\n",
      " [1175  977  872  439  304    0  300  369  738 1273]\n",
      " [1475 1277 1172  739  604  300    0   69  438  973]\n",
      " [1544 1346 1241  808  673  369   69    0  369  904]\n",
      " [1913 1715 1610 1177 1042  738  438  369    0  535]\n",
      " [2448 2250 2145 1712 1577 1273  973  904  535    0]] \n",
      "\n",
      "\n",
      "2D grid distances among each city in the kilometers: \n",
      " [[   0.        318.650112  487.631232 1184.477184 1401.738624 1890.9792\n",
      "  2373.7824   2484.827136 3078.675072 3939.674112]\n",
      " [ 318.650112    0.        168.98112   865.827072 1083.088512 1572.329088\n",
      "  2055.132288 2166.177024 2760.02496  3621.024   ]\n",
      " [ 487.631232  168.98112     0.        696.845952  914.107392 1403.347968\n",
      "  1886.151168 1997.195904 2591.04384  3452.04288 ]\n",
      " [1184.477184  865.827072  696.845952    0.        217.26144   706.502016\n",
      "  1189.305216 1300.349952 1894.197888 2755.196928]\n",
      " [1401.738624 1083.088512  914.107392  217.26144     0.        489.240576\n",
      "   972.043776 1083.088512 1676.936448 2537.935488]\n",
      " [1890.9792   1572.329088 1403.347968  706.502016  489.240576    0.\n",
      "   482.8032    593.847936 1187.695872 2048.694912]\n",
      " [2373.7824   2055.132288 1886.151168 1189.305216  972.043776  482.8032\n",
      "     0.        111.044736  704.892672 1565.891712]\n",
      " [2484.827136 2166.177024 1997.195904 1300.349952 1083.088512  593.847936\n",
      "   111.044736    0.        593.847936 1454.846976]\n",
      " [3078.675072 2760.02496  2591.04384  1894.197888 1676.936448 1187.695872\n",
      "   704.892672  593.847936    0.        860.99904 ]\n",
      " [3939.674112 3621.024    3452.04288  2755.196928 2537.935488 2048.694912\n",
      "  1565.891712 1454.846976  860.99904     0.      ]] \n",
      "\n",
      "\n"
     ]
    }
   ],
   "source": [
    "#Task 6\n",
    "\n",
    "route_66=np.array([0, 198, 303, 736, 871, 1175, 1475, 1544, 1913, 2448])\n",
    "distances=np.abs(route_66-route_66[:,np.newaxis])\n",
    "dist_km=distances*1.609344\n",
    "\n",
    "print(\"2D grid distances among each city in the miles: \\n\", distances ,'\\n\\n')\n",
    "print(\"2D grid distances among each city in the kilometers: \\n\", dist_km ,'\\n\\n')\n",
    "\n"
   ]
  },
  {
   "cell_type": "markdown",
   "metadata": {},
   "source": [
    "7\\. **Prime numbers sieve**\n",
    "\n",
    "Compute the prime numbers in the 0-N (start with N=99) range with a sieve (mask).\n",
    "\n",
    "  * Constract a shape (N,) boolean array, which is the mask\n",
    "  * Identify the multiples of each number starting from 2 and set accordingly the corresponding mask element\n",
    "  * Apply the mask to obtain an array of ordered prime numbers\n",
    "  * Check the performances (with `timeit`); how does it scale with N?\n",
    "  * Implement the optimization suggested in the [sieve of Eratosthenes](https://en.wikipedia.org/wiki/Sieve_of_Eratosthenes)"
   ]
  },
  {
   "cell_type": "code",
   "execution_count": 35,
   "metadata": {},
   "outputs": [
    {
     "name": "stdout",
     "output_type": "stream",
     "text": [
      "Prime numbers: \n",
      "  [ 2  3  5  7 11 13 17 19 23 29 31 37 41 43 47 53 59 61 67 71 73 79 83 89\n",
      " 97]\n"
     ]
    }
   ],
   "source": [
    "#Task 7\n",
    "\n",
    "def is_prime(N):\n",
    "    num=np.arange(N+1)\n",
    "    mask=np.ones(num.shape[0], dtype=bool)\n",
    "    \n",
    "    mask[0]=False #0 and 1 aren't prime numbers, so to be sured they are not considered\n",
    "    mask[1]=False\n",
    "    for i in range(2, mask.shape[0]):\n",
    "        if mask[i]:\n",
    "            mask[i+i::i] = False\n",
    "            \n",
    "    return num[mask]\n",
    "    \n",
    "print(\"Prime numbers: \\n \",is_prime(99))    \n"
   ]
  },
  {
   "cell_type": "code",
   "execution_count": 36,
   "metadata": {},
   "outputs": [
    {
     "name": "stdout",
     "output_type": "stream",
     "text": [
      "18 µs ± 2.2 µs per loop (mean ± std. dev. of 7 runs, 10000 loops each)\n",
      "121 µs ± 12.8 µs per loop (mean ± std. dev. of 7 runs, 1000 loops each)\n",
      "1.15 ms ± 182 µs per loop (mean ± std. dev. of 7 runs, 1000 loops each)\n"
     ]
    }
   ],
   "source": [
    "#Task 7b \n",
    "#Checking performance with time it and with different values of N\n",
    "%timeit is_prime(99)\n",
    "%timeit is_prime(999)\n",
    "%timeit is_prime(9999)\n",
    "#Comment: With increasing N, increases the time of execution time"
   ]
  },
  {
   "cell_type": "code",
   "execution_count": 37,
   "metadata": {},
   "outputs": [
    {
     "name": "stdout",
     "output_type": "stream",
     "text": [
      "[2 3 5 7]\n"
     ]
    }
   ],
   "source": [
    "#Task 7c\n",
    "#The sieve of Erathostenes - implementation of pseudo code\n",
    "import math\n",
    "def sieve_erathostenes(N):\n",
    "    if N>1:\n",
    "        num=np.arange(N+1)\n",
    "        mask=np.ones(num.shape[0], dtype=bool)\n",
    "        mask[0]=False\n",
    "        mask[1]=False\n",
    "        for i in range(2,int(math.sqrt(N)+1)):\n",
    "            if mask[i]==True:\n",
    "                for j in range(i**i, N+1, i):\n",
    "                    mask[j]=False\n",
    "        return num[mask]\n",
    "    else:\n",
    "        print(\"You need to enter number higher than 1!\")\n",
    "\n",
    "print(sieve_erathostenes(7))       \n",
    "        "
   ]
  },
  {
   "cell_type": "markdown",
   "metadata": {},
   "source": [
    "8\\. **Diffusion using random walk**\n",
    "\n",
    "Consider a simple random walk process: at each step in time, a walker jumps right or left (+1 or -1) with equal probability. The goal is to find the typical distance from the origin of many random walkers after a given amount of time.\n",
    "\n",
    "*Hint*: create a 2D array where each row represents a walker, and each column represents a time step.\n",
    "\n",
    "  * Take 1000 walkers and let them walk for 200 steps\n",
    "  * Use `randint` to create a 2D array of size $walkers \\times steps$ with values -1 or 1\n",
    "  * Calculate the walking distances for each walker (e.g. by summing the elements in each row)\n",
    "  * Take the square of the previously-obtained array (element-wise)\n",
    "  * Compute the mean of the squared distances at each step (i.e. the mean along the columns)\n",
    "  * **Optional**: plot the average distances ($\\sqrt(distance^2)$) as a function of time (step)"
   ]
  },
  {
   "cell_type": "code",
   "execution_count": 38,
   "metadata": {},
   "outputs": [
    {
     "name": "stdout",
     "output_type": "stream",
     "text": [
      "[[-1  1 -1 ... -1  1 -1]\n",
      " [ 1  1 -1 ...  1 -1 -1]\n",
      " [ 1  1 -1 ... -1 -1  1]\n",
      " ...\n",
      " [-1  1  1 ... -1  1  1]\n",
      " [-1 -1 -1 ...  1 -1 -1]\n",
      " [-1  1 -1 ... -1  1 -1]]\n",
      "[[ -1   0  -1 ...  -4  -3  -4]\n",
      " [  1   2   1 ...  18  17  16]\n",
      " [  1   2   1 ...  16  15  16]\n",
      " ...\n",
      " [ -1   0   1 ... -18 -17 -16]\n",
      " [ -1  -2  -3 ...   4   3   2]\n",
      " [ -1   0  -1 ...  24  25  24]]\n",
      "[  1.      1.976   2.968   4.02    4.8     5.672   6.488   7.364   8.408\n",
      "   9.192  10.312  11.28   12.152  13.316  14.24   14.82   15.416  16.548\n",
      "  17.944  19.244  20.032  21.208  22.192  22.924  23.968  25.124  26.192\n",
      "  26.904  28.     29.036  30.136  31.26   32.552  34.256  35.544  36.768\n",
      "  37.952  38.74   39.016  39.744  41.08   42.38   43.136  44.724  45.768\n",
      "  46.664  47.56   48.584  49.464  49.7    51.12   51.9    52.832  53.22\n",
      "  54.64   56.096  57.608  59.34   60.712  62.228  64.128  64.936  64.936\n",
      "  65.584  65.848  66.812  67.528  68.288  69.624  71.224  72.328  73.74\n",
      "  74.8    75.572  76.776  78.732  79.496  80.464  80.768  82.008  83.288\n",
      "  83.884  84.544  85.996  86.576  87.376  89.32   90.496  91.28   92.08\n",
      "  92.272  92.7    93.24   93.82   94.776  95.396  96.872  98.668  97.6\n",
      "  99.552 101.336 103.048 103.984 104.22  105.752 107.028 108.328 109.432\n",
      " 110.776 111.204 112.728 112.844 113.24  113.112 113.904 114.628 116.184\n",
      " 116.812 117.376 117.676 119.52  121.64  122.04  123.892 124.536 126.24\n",
      " 127.248 128.636 129.512 130.248 130.272 131.004 133.248 134.252 136.368\n",
      " 138.86  140.112 139.112 140.576 142.416 142.72  143.056 142.968 144.344\n",
      " 144.4   145.292 146.08  147.944 149.544 151.62  154.224 154.88  157.528\n",
      " 158.268 159.344 160.244 161.096 162.732 162.56  162.948 164.216 164.504\n",
      " 163.872 163.824 163.536 164.184 166.328 168.796 169.384 172.    173.776\n",
      " 175.04  175.104 174.804 175.664 176.872 175.976 177.744 180.16  181.948\n",
      " 183.968 185.564 185.288 187.344 190.208 189.936 190.448 191.284 192.464\n",
      " 192.968 191.824 191.84  193.248 194.252 194.92  197.228 198.456 199.98\n",
      " 200.248 201.724]\n"
     ]
    },
    {
     "data": {
      "image/png": "[encoded data removed]",
      "text/plain": [
       "<Figure size 504x504 with 1 Axes>"
      ]
     },
     "metadata": {
      "needs_background": "light"
     },
     "output_type": "display_data"
    }
   ],
   "source": [
    "#Task 8\n",
    "import numpy.random as npr\n",
    "import matplotlib.pyplot as plt\n",
    "import math\n",
    "\n",
    "npr.seed(123)#any random number to set for seed\n",
    "\n",
    "random_walk=npr.randint(-1,1, size=(1000,200))#1000 walkers, 200 steps\n",
    "random_walk[random_walk==0]=1 #it will generate values between -1 and 0, so we want to get -1 and 1 and we will use mask option \n",
    "#to replace all zeros to 1\n",
    "print(random_walk)\n",
    "\n",
    "#Task b --- Calculating the walking distances\n",
    "distances=random_walk.cumsum(axis=1)\n",
    "print(distances)\n",
    "msd = np.mean(distances**2, axis=0)\n",
    "print(msd)\n",
    "\n",
    "#Plotting\n",
    "fig = plt.figure(figsize=(7,7))\n",
    "plt.plot(np.arange(200), np.mean(np.sqrt(np.square(distances)),axis=0),'-g') #math.sqrt(distances**2)\n",
    "plt.xlabel('Steps')\n",
    "plt.ylabel('Average distances')\n",
    "plt.show()\n",
    "\n"
   ]
  },
  {
   "cell_type": "code",
   "execution_count": null,
   "metadata": {},
   "outputs": [],
   "source": []
  },
  {
   "cell_type": "code",
   "execution_count": null,
   "metadata": {},
   "outputs": [],
   "source": []
  },
  {
   "cell_type": "code",
   "execution_count": null,
   "metadata": {},
   "outputs": [],
   "source": []
  }
 ],
 "metadata": {
  "kernelspec": {
   "display_name": "Python 3 (ipykernel)",
   "language": "python",
   "name": "python3"
  },
  "language_info": {
   "codemirror_mode": {
    "name": "ipython",
    "version": 3
   },
   "file_extension": ".py",
   "mimetype": "text/x-python",
   "name": "python",
   "nbconvert_exporter": "python",
   "pygments_lexer": "ipython3",
   "version": "3.9.7"
  }
 },
 "nbformat": 4,
 "nbformat_minor": 2
}
